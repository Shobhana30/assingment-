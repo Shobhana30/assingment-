{
  "nbformat": 4,
  "nbformat_minor": 0,
  "metadata": {
    "colab": {
      "provenance": []
    },
    "kernelspec": {
      "name": "python3",
      "display_name": "Python 3"
    },
    "language_info": {
      "name": "python"
    }
  },
  "cells": [
    {
      "cell_type": "markdown",
      "source": [
        "#Assignment1\n",
        "\n"
      ],
      "metadata": {
        "id": "f2VJYDs62l0Z"
      }
    },
    {
      "cell_type": "markdown",
      "source": [],
      "metadata": {
        "id": "nfZCfX_oClI_"
      }
    },
    {
      "cell_type": "markdown",
      "source": [
        "1. Analyze the UI of PhonePe\n",
        "    a.Identify key UI elements such as colors,typrography,buttons, icons and layout.\n",
        "\n",
        "\n",
        "    b.Discuss how these element contribute to the visual aesthetics and consistency of the app.\n",
        "    \n",
        "    \n",
        "    ->Colors: Consistent use of brand colors primarily purple, blue, and white, ensuring brand recognition and visual harmony across screens.\n",
        "\n",
        "      Typography: Clean, readable fonts are used throughout the app for clarity and accessibility.\n",
        "\n",
        "      Buttons & Icons: Well-defined, easily recognizable buttons and icons , payment option icons, QR scan, transaction buttons support intuitive interaction.\n",
        "      \n",
        "      Layouts: Structured layout with sections for recent transactions, popular services, and quick-access shortcuts. Uncluttered design with more white space in recent updates, reducing overwhelm.\n",
        "\n",
        "\n",
        "    ->B)Contribution to Visual Aesthetics & Consistency:\n",
        "       The design system ensures every screen aligns visually, making navigation feel seamless and purposeful.Use of color schemes and button shapes creates a familiar look, helping users instantly understand functions and navigate with confidence.\n",
        "       Consistent placement of interactive elements scan, pay, recharge improves visual memory for regular users.\n",
        "\n",
        "\n",
        "  ->"
      ],
      "metadata": {
        "id": "RCDbdITVAQrq"
      }
    },
    {
      "cell_type": "code",
      "source": [],
      "metadata": {
        "id": "UvZSxjihH5XX"
      },
      "execution_count": null,
      "outputs": []
    },
    {
      "cell_type": "code",
      "execution_count": null,
      "metadata": {
        "id": "cxVzYNE1IWlU"
      },
      "outputs": [],
      "source": []
    }
  ]
}